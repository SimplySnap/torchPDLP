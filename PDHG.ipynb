{
 "cells": [
  {
   "cell_type": "code",
   "execution_count": 5,
   "id": "c6970982-e9c8-4cd0-a0ca-543ff00ecf79",
   "metadata": {},
   "outputs": [
    {
     "name": "stdout",
     "output_type": "stream",
     "text": [
      "Defaulting to user installation because normal site-packages is not writeable\n",
      "Requirement already satisfied: cplex in ./.local/lib/python3.9/site-packages (22.1.2.0)\n",
      "\u001b[33mWARNING: Value for scheme.platlib does not match. Please report this to <https://github.com/pypa/pip/issues/10151>\n",
      "distutils: /home1/cphillips/.local/lib/python3.9/site-packages\n",
      "sysconfig: /home1/cphillips/.local/lib64/python3.9/site-packages\u001b[0m\n",
      "\u001b[33mWARNING: Additional context:\n",
      "user = True\n",
      "home = None\n",
      "root = None\n",
      "prefix = None\u001b[0m\n",
      "Note: you may need to restart the kernel to use updated packages.\n"
     ]
    }
   ],
   "source": [
    "pip install cplex"
   ]
  },
  {
   "cell_type": "raw",
   "id": "0bce3877-3ee3-4f51-9830-9b3bbb68c778",
   "metadata": {},
   "source": [
    "The standard format for LP problems is .mps. The following function solves LP using either primal simplex, dual simplex, or barrier (interior point)."
   ]
  },
  {
   "cell_type": "code",
   "execution_count": 32,
   "id": "ac33e134-5812-4dde-a811-dc78e2945fba",
   "metadata": {},
   "outputs": [
    {
     "name": "stdout",
     "output_type": "stream",
     "text": [
      "\n",
      "Selected objective sense:  MINIMIZE\n",
      "Selected objective  name:  COST\n",
      "Selected RHS        name:  RHS1\n",
      "Selected bound      name:  BND1\n",
      "Version identifier: 22.1.2.0 | 2024-12-10 | f4cec290b\n",
      "CPXPARAM_Read_DataCheck                          1\n",
      "Tried aggregator 1 time.\n",
      "LP Presolve eliminated 1 rows and 1 columns.\n",
      "Aggregator did 1 substitutions.\n",
      "All rows and columns eliminated.\n",
      "Presolve time = 0.00 sec. (0.00 ticks)\n",
      "Objective value: 19.799999999999997\n",
      "Minimizer: x^T = [0.6000000000000001, 3.6]\n"
     ]
    }
   ],
   "source": [
    "import cplex\n",
    "cpx = cplex.Cplex(\"example.mps\")\n",
    "cpx.solve()\n",
    "print(\"Objective value:\", cpx.solution.get_objective_value())\n",
    "print(\"Minimizer: x^T =\", cpx.solution.get_values())"
   ]
  },
  {
   "cell_type": "raw",
   "id": "c4acc1be-b050-4538-b099-c29d63fb3cac",
   "metadata": {},
   "source": [
    "This function extracts the parameters of the LP from the .mps format to the general form:\n",
    "\n",
    "        min_x  cᵀx\n",
    "   subject to  Gx ≥ h\n",
    "               Ax = b\n",
    "               l ≤ x ≤ u\n",
    "\n",
    "If there are less than or equal to constrainst (Qx ≤ k), they are negated into greater than or equal constraints (-Qx ≥ -k)."
   ]
  },
  {
   "cell_type": "code",
   "execution_count": 29,
   "id": "6d2c3424-4a61-4caa-990e-f3f0a146dd00",
   "metadata": {},
   "outputs": [],
   "source": [
    "import numpy as np\n",
    "import cplex\n",
    "from cplex.exceptions import CplexError\n",
    "\n",
    "def mps_to_standard_form(mps_file):\n",
    "    try:\n",
    "        cpx = cplex.Cplex(mps_file)\n",
    "        cpx.set_results_stream(None)  # mute output\n",
    "\n",
    "        # Number of variables and constraints\n",
    "        num_vars = cpx.variables.get_num()\n",
    "        num_constraints = cpx.linear_constraints.get_num()\n",
    "\n",
    "        # Objective vector (c)\n",
    "        c = np.array(cpx.objective.get_linear())\n",
    "\n",
    "        # Constraint matrix\n",
    "        A_full = cpx.linear_constraints.get_rows()\n",
    "        senses = cpx.linear_constraints.get_senses()\n",
    "        rhs = np.array(cpx.linear_constraints.get_rhs())\n",
    "\n",
    "        A = []\n",
    "        G = []\n",
    "        b = []\n",
    "        h = []\n",
    "\n",
    "        for i, (row, sense, rhs_i) in enumerate(zip(A_full, senses, rhs)):\n",
    "            row_vec = np.zeros(num_vars)\n",
    "            for idx, val in zip(row.ind, row.val):\n",
    "                row_vec[idx] = val\n",
    "            if sense == 'E':  # Equality constraint\n",
    "                A.append(row_vec)\n",
    "                b.append(rhs_i)\n",
    "            elif sense == 'G':  # Greater than or equal\n",
    "                G.append(row_vec)\n",
    "                h.append(rhs_i)\n",
    "            elif sense == 'L':  # Less than or equal\n",
    "                # convert to -Gx ≥ -h\n",
    "                G.append(-row_vec)\n",
    "                h.append(-rhs_i)\n",
    "\n",
    "        A = np.array(A) if A else np.zeros((0, num_vars))\n",
    "        b = np.array(b) if b else np.zeros(0)\n",
    "        G = np.array(G) if G else np.zeros((0, num_vars))\n",
    "        h = np.array(h) if h else np.zeros(0)\n",
    "\n",
    "        # Bounds\n",
    "        l = np.array(cpx.variables.get_lower_bounds())\n",
    "        u = np.array(cpx.variables.get_upper_bounds())\n",
    "\n",
    "        c = c.reshape(-1, 1)\n",
    "        h = h.reshape(-1, 1)\n",
    "        b = b.reshape(-1, 1)\n",
    "        l = l.reshape(-1, 1)\n",
    "        u = u.reshape(-1, 1)\n",
    "        \n",
    "        return c, G, h, A, b, l, u\n",
    "\n",
    "    except CplexError as e:\n",
    "        print(\"CPLEX Error:\", e)\n",
    "        return None"
   ]
  },
  {
   "cell_type": "raw",
   "id": "a581c212-b0ee-4316-b0df-4cc557d8fc5c",
   "metadata": {},
   "source": [
    "This function iterates the primal-dual hybrid gradient algorithm, without any enhancements."
   ]
  },
  {
   "cell_type": "code",
   "execution_count": 30,
   "id": "75168b1a-a47b-47d9-bda7-719483cc90f7",
   "metadata": {},
   "outputs": [],
   "source": [
    "import numpy as np\n",
    "\n",
    "def pdhg(c, G, h, A, b, l, u, max_iter=1000):\n",
    "    \"\"\"\n",
    "    Solves:\n",
    "        min cᵀx s.t. Gx ≥ h, Ax = b, l ≤ x ≤ u\n",
    "    using PDHG algorithm.\n",
    "    \"\"\"\n",
    "\n",
    "    # Define Parameters\n",
    "    eta = 0.9/np.linalg.norm(np.vstack([G,A]), 2)\n",
    "    omega = 1\n",
    "\n",
    "    tau = eta/omega\n",
    "    sigma = eta*omega\n",
    "    \n",
    "    m_eq = A.shape[0]\n",
    "    m_ineq = G.shape[0]\n",
    "    n = c.shape[0]\n",
    "\n",
    "    # Initialize Primal and Dual Variables\n",
    "    x = np.zeros((n, 1))\n",
    "    y = np.zeros((m_eq, 1))       # for Ax = b\n",
    "    z = np.zeros((m_ineq, 1))     # for Gx ≥ h → dual z ≥ 0\n",
    "\n",
    "    for k in range(max_iter):\n",
    "        \n",
    "        # Primal update\n",
    "        x_old = x.copy()\n",
    "        # Project x onto box constraints l ≤ x ≤ u\n",
    "        x = np.minimum(np.maximum(x - tau * (c - A.T @ y - G.T @ z), l), u)\n",
    "\n",
    "        # Dual update\n",
    "        y += sigma * (b - A @ (2*x - x_old))\n",
    "        z += sigma * (h - G @ (2*x - x_old))\n",
    "        z = np.maximum(z, 0)  # project onto constraint z ≥ 0\n",
    "\n",
    "    print(\"Objective Value:\", (c.T @ x)[0][0])\n",
    "    return x"
   ]
  },
  {
   "cell_type": "code",
   "execution_count": 37,
   "id": "966b5f25-ac4d-4d65-98fd-840774dfd404",
   "metadata": {},
   "outputs": [
    {
     "name": "stdout",
     "output_type": "stream",
     "text": [
      "\n",
      "Selected objective sense:  MINIMIZE\n",
      "Selected objective  name:  COST\n",
      "Selected RHS        name:  RHS1\n",
      "Selected bound      name:  BND1\n",
      "Objective Value: 19.8\n",
      "Minimizer: x^T = [0.6000000000000001, 3.6]\n"
     ]
    }
   ],
   "source": [
    "c, G, h, A, b, l, u = mps_to_standard_form(\"example.mps\")\n",
    "print(\"Minimizer: x^T =\",pdhg(c, G, h, A, b, l, u, max_iter=1000000).T[0].tolist())"
   ]
  },
  {
   "cell_type": "code",
   "execution_count": null,
   "id": "3ebb7f5f-95db-4b4f-8c8a-895a7ec12502",
   "metadata": {},
   "outputs": [],
   "source": []
  }
 ],
 "metadata": {
  "kernelspec": {
   "display_name": "Python 3 (ipykernel)",
   "language": "python",
   "name": "python3"
  },
  "language_info": {
   "codemirror_mode": {
    "name": "ipython",
    "version": 3
   },
   "file_extension": ".py",
   "mimetype": "text/x-python",
   "name": "python",
   "nbconvert_exporter": "python",
   "pygments_lexer": "ipython3",
   "version": "3.9.16"
  }
 },
 "nbformat": 4,
 "nbformat_minor": 5
}
